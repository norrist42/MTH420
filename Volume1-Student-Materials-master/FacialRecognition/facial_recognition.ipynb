{
 "cells": [
  {
   "cell_type": "markdown",
   "metadata": {},
   "source": [
    "<h1 align=\"center\">Volume 1: Facial Recognition</h1>\n",
    "\n",
    "    <Name> (double-click to edit)\n",
    "    <Class>\n",
    "    <Date>"
   ]
  },
  {
   "cell_type": "code",
   "execution_count": null,
   "metadata": {
    "collapsed": true
   },
   "outputs": [],
   "source": [
    "import numpy as np\n",
    "from os import walk\n",
    "from scipy.misc import imread\n",
    "\n",
    "from matplotlib import pyplot as plt, rcParams\n",
    "%matplotlib inline\n",
    "# rcParams[\"figure.figsize\"] = (16,12)    # Use this line to increase your figure size (optional)."
   ]
  },
  {
   "cell_type": "markdown",
   "metadata": {},
   "source": [
    "### Helper Functions"
   ]
  },
  {
   "cell_type": "code",
   "execution_count": null,
   "metadata": {
    "collapsed": true
   },
   "outputs": [],
   "source": [
    "def get_faces(path=\"./faces94\"):\n",
    "    \"\"\"Traverse the specified directory to obtain one image per subdirectory. \n",
    "    Flatten and convert each image to grayscale.\n",
    "    \n",
    "    Parameters:\n",
    "        path (str): The directory containing the dataset of images.  \n",
    "    \n",
    "    Returns:\n",
    "        ((mn,k) ndarray) An array containing one column vector per\n",
    "            subdirectory. k is the number of people, and each original\n",
    "            image is mxn.\n",
    "    \"\"\"\n",
    "    # Traverse the directory and get one image per subdirectory.\n",
    "    faces = []\n",
    "    for (dirpath, dirnames, filenames) in walk(path):\n",
    "        for fname in filenames:\n",
    "            if fname[-3:]==\"jpg\":       # Only get jpg images.\n",
    "                # Load the image, convert it to grayscale,\n",
    "                # and flatten it into a vector.\n",
    "                faces.append(np.ravel(imread(dirpath+\"/\"+fname, flatten=True)))\n",
    "                break\n",
    "    # Put all the face vectors column-wise into a matrix.\n",
    "    return np.transpose(faces)\n",
    "\n",
    "\n",
    "def sample_faces(k, path=\"./faces94\"):\n",
    "    \"\"\"Generate k sample images from the given path.\n",
    "\n",
    "    Parameters:\n",
    "        n (int): The number of sample images to obtain. \n",
    "        path(str): The directory containing the dataset of images.  \n",
    "    \n",
    "    Yields:\n",
    "        ((mn,) ndarray): An flattend mn-array representing a single\n",
    "        image. k images are yielded in total.\n",
    "    \"\"\"\n",
    "    files = []\n",
    "    for (dirpath, dirnames, filenames) in walk(path):\n",
    "        for fname in filenames:\n",
    "            if fname[-3:]==\"jpg\":       # Only get jpg images.\n",
    "                files.append(dirpath+\"/\"+fname)\n",
    "\n",
    "    # Get a subset of the image names and yield the images one at a time.\n",
    "    test_files = np.random.choice(files, k, replace=False)\n",
    "    for fname in test_files:\n",
    "        yield np.ravel(imread(fname, flatten=True))"
   ]
  },
  {
   "cell_type": "markdown",
   "metadata": {},
   "source": [
    "## Problem 1 \n",
    "\n",
    "- Implement the `show()` function.\n",
    "- Use `show()` to display a face from the `faces94` dataset."
   ]
  },
  {
   "cell_type": "code",
   "execution_count": null,
   "metadata": {
    "collapsed": true
   },
   "outputs": [],
   "source": [
    "def show(image, m=200, n=180):\n",
    "    \"\"\"Plot the flattened grayscale 'image' of width 'w' and height 'h'.\n",
    "    \n",
    "    Parameters:\n",
    "        image ((mn,) ndarray): A flattened image.\n",
    "        m (int): The original number of rows in the image.\n",
    "        n (int): The original number of columns in the image.\n",
    "    \"\"\"\n",
    "    raise NotImplementedError(\"Problem 1 Incomplete\")"
   ]
  },
  {
   "cell_type": "code",
   "execution_count": null,
   "metadata": {
    "scrolled": false
   },
   "outputs": [],
   "source": [
    "# Show a face from the faces94 dataset.\n"
   ]
  },
  {
   "cell_type": "markdown",
   "metadata": {},
   "source": [
    "## Facial Recognition Class"
   ]
  },
  {
   "cell_type": "code",
   "execution_count": 1,
   "metadata": {},
   "outputs": [],
   "source": [
    "class FacialRec(object):\n",
    "    \"\"\"Class for storing a database of face images, with methods for\n",
    "    matching other faces to the database.\n",
    "    \n",
    "    Attributes:\n",
    "        <FILL THIS IN>\n",
    "    \"\"\"\n",
    "    # Problems 2-3\n",
    "    def __init__(self, path='./faces94'):\n",
    "        \"\"\"Initialize all attributes.\n",
    "        This is the main part of the computation.\n",
    "        \"\"\"\n",
    "        raise NotImplementedError(\"Problem 2 Incomplete\")\n",
    "\n",
    "    # Problem 3\n",
    "    def project(self, A, s):\n",
    "        \"\"\"Project a face vector onto the subspace spanned by the first s\n",
    "        eigenfaces, and represent that projection in terms of those eigenfaces.\n",
    "        \n",
    "        Parameters:\n",
    "            A((mn,) or (mn,l) ndarray): The array to be projected. \n",
    "            s(int): the number of eigenfaces.\n",
    "        Returns: \n",
    "            ((s,) ndarray): An array of the projected image of s eigenfaces.\n",
    "        \"\"\"\n",
    "        raise NotImplementedError(\"Problem 3 Incomplete\")\n",
    "\n",
    "    # Problem 5\n",
    "    def find_nearest(self, g, s=38):\n",
    "        \"\"\"Find the index j such that the jth column of F is the face that is\n",
    "        closest to the face image 'g'.\n",
    "        \n",
    "        Parameters:\n",
    "            g ((mn,) ndarray): A flattened face image.\n",
    "            s (int): the number of eigenfaces to use in the projection.\n",
    "\n",
    "        Returns:\n",
    "            (int): the index of the column of F that is the best match to\n",
    "                   the input face image 'g'.\n",
    "        \"\"\"\n",
    "        raise NotImplementedError(\"Problem 5 Incomplete\")\n",
    "\n",
    "    # Problem 6\n",
    "    def match(self, image, s=38, m=200, n=180):\n",
    "        \"\"\"Display an image along with its closest match from the dataset. \n",
    "        \n",
    "        Parameters:\n",
    "            image ((mn,) ndarray): A flattened face image.\n",
    "            s (int): The number of eigenfaces to use in the projection.\n",
    "            m (int): The original number of rows in the image.\n",
    "            n (int): The original number of columns in the image.\n",
    "        \"\"\"\n",
    "        raise NotImplementedError(\"Problem 6 Incomplete\")"
   ]
  },
  {
   "cell_type": "markdown",
   "metadata": {},
   "source": [
    "## Problem 2\n",
    "\n",
    "- In `FacialRec.__init__()`, compute $F$, the mean face $\\boldsymbol{\\mu}$, and the mean-shifted faces $\\bar{F}$.\n",
    "Store each as an attribute.\n",
    "\n",
    "- Initialize a `FacialRec` object and display its mean face, plus an original image and its shifted face."
   ]
  },
  {
   "cell_type": "code",
   "execution_count": null,
   "metadata": {},
   "outputs": [],
   "source": [
    "# Display the mean face.\n"
   ]
  },
  {
   "cell_type": "code",
   "execution_count": null,
   "metadata": {},
   "outputs": [],
   "source": [
    "# Display an image along with its mean-shifted face.\n"
   ]
  },
  {
   "cell_type": "markdown",
   "metadata": {},
   "source": [
    "## Problem 3\n",
    "\n",
    "- In `FacialRec.__init__()`, compute the compact SVD of $\\bar{F}$ and store the $U$ as an attribute.\n",
    "- Use `show()` to display some of the eigenfaces (the columns of $U$).\n",
    "- Implement `FacialRec.project()` (in a single line).\n"
   ]
  },
  {
   "cell_type": "code",
   "execution_count": null,
   "metadata": {},
   "outputs": [],
   "source": [
    "# Display some of the eigenfaces.\n"
   ]
  },
  {
   "cell_type": "markdown",
   "metadata": {},
   "source": [
    "## Problem 4\n",
    "\n",
    "- Select one of the shifted images $\\bar{\\mathbf{f}}_i$.\n",
    "- For at least 4 values of $s$, use `FacialRec.project()` to compute the corresponding $s$-projection $\\widehat{\\mathbf{f}}_i$, then compute the reconstruction $\\widetilde{\\mathbf{f}}_i$.\n",
    "- Display each of the reconstructions and the original image."
   ]
  },
  {
   "cell_type": "code",
   "execution_count": null,
   "metadata": {},
   "outputs": [],
   "source": [
    "# Display a face image reconstructed with various numbers of eigenfaces. \n"
   ]
  },
  {
   "cell_type": "markdown",
   "metadata": {},
   "source": [
    "## Problem 5 \n",
    "Implement `FacialRec.find_nearest()`."
   ]
  },
  {
   "cell_type": "markdown",
   "metadata": {},
   "source": [
    "## Problem 6\n",
    "\n",
    "- Implement `FacialRec.match_face()`.\n",
    "- Generate some random faces with `sample_faces()`, and use `FacialRec.match_faces()` to find the closest match (let $s=38$).\n",
    "- For each test, display the sample image and its closest match."
   ]
  },
  {
   "cell_type": "code",
   "execution_count": null,
   "metadata": {
    "scrolled": false
   },
   "outputs": [],
   "source": [
    "# Display some random images along with their closest match.\n"
   ]
  }
 ],
 "metadata": {
  "anaconda-cloud": {},
  "kernelspec": {
   "display_name": "Python 3",
   "language": "python",
   "name": "python3"
  },
  "language_info": {
   "codemirror_mode": {
    "name": "ipython",
    "version": 3
   },
   "file_extension": ".py",
   "mimetype": "text/x-python",
   "name": "python",
   "nbconvert_exporter": "python",
   "pygments_lexer": "ipython3",
   "version": "3.6.1"
  }
 },
 "nbformat": 4,
 "nbformat_minor": 1
}
